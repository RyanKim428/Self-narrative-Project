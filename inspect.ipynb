{
 "cells": [
  {
   "cell_type": "code",
   "id": "initial_id",
   "metadata": {
    "collapsed": true,
    "ExecuteTime": {
     "end_time": "2025-05-20T03:04:32.131815Z",
     "start_time": "2025-05-20T03:04:32.070564Z"
    }
   },
   "source": [
    "import little_mallet_wrapper as lmw\n",
    "import pandas as pd\n"
   ],
   "outputs": [],
   "execution_count": 8
  },
  {
   "metadata": {
    "ExecuteTime": {
     "end_time": "2025-05-20T03:06:42.582688Z",
     "start_time": "2025-05-20T03:06:42.558353Z"
    }
   },
   "cell_type": "code",
   "source": [
    "topic_path = './output/'\n",
    "num_topics = 15"
   ],
   "id": "2dd2b36b35d1dd85",
   "outputs": [],
   "execution_count": 11
  },
  {
   "metadata": {
    "ExecuteTime": {
     "end_time": "2025-05-20T03:06:44.703923Z",
     "start_time": "2025-05-20T03:06:44.556756Z"
    }
   },
   "cell_type": "code",
   "source": "topic_keys = lmw.load_topic_distributions(topic_path + '/mallet.topic_keys.' + str(num_topics))\n",
   "id": "bc5a8357ad549bef",
   "outputs": [
    {
     "ename": "ValueError",
     "evalue": "could not convert string to float: 'life know way people suicide help time like day think depression feel thing learn loss family end thought deal heart \\n'",
     "output_type": "error",
     "traceback": [
      "\u001B[31m---------------------------------------------------------------------------\u001B[39m",
      "\u001B[31mValueError\u001B[39m                                Traceback (most recent call last)",
      "\u001B[36mCell\u001B[39m\u001B[36m \u001B[39m\u001B[32mIn[12]\u001B[39m\u001B[32m, line 1\u001B[39m\n\u001B[32m----> \u001B[39m\u001B[32m1\u001B[39m topic_keys = \u001B[43mlmw\u001B[49m\u001B[43m.\u001B[49m\u001B[43mload_topic_distributions\u001B[49m\u001B[43m(\u001B[49m\u001B[43mtopic_path\u001B[49m\u001B[43m \u001B[49m\u001B[43m+\u001B[49m\u001B[43m \u001B[49m\u001B[33;43m'\u001B[39;49m\u001B[33;43m/mallet.topic_keys.\u001B[39;49m\u001B[33;43m'\u001B[39;49m\u001B[43m \u001B[49m\u001B[43m+\u001B[49m\u001B[43m \u001B[49m\u001B[38;5;28;43mstr\u001B[39;49m\u001B[43m(\u001B[49m\u001B[43mnum_topics\u001B[49m\u001B[43m)\u001B[49m\u001B[43m)\u001B[49m\n",
      "\u001B[36mFile \u001B[39m\u001B[32m~/Projects/mental-health/envs/analysis/lib/python3.11/site-packages/little_mallet_wrapper/little_mallet_wrapper.py:160\u001B[39m, in \u001B[36mload_topic_distributions\u001B[39m\u001B[34m(topic_distributions_path)\u001B[39m\n\u001B[32m    158\u001B[39m     \u001B[38;5;28;01mif\u001B[39;00m line.split()[\u001B[32m0\u001B[39m] != \u001B[33m'\u001B[39m\u001B[33m#doc\u001B[39m\u001B[33m'\u001B[39m:\n\u001B[32m    159\u001B[39m         instance_id, distribution = (line.split(\u001B[33m'\u001B[39m\u001B[38;5;130;01m\\t\u001B[39;00m\u001B[33m'\u001B[39m)[\u001B[32m1\u001B[39m], line.split(\u001B[33m'\u001B[39m\u001B[38;5;130;01m\\t\u001B[39;00m\u001B[33m'\u001B[39m)[\u001B[32m2\u001B[39m:])\n\u001B[32m--> \u001B[39m\u001B[32m160\u001B[39m         distribution = \u001B[43m[\u001B[49m\u001B[38;5;28;43mfloat\u001B[39;49m\u001B[43m(\u001B[49m\u001B[43mp\u001B[49m\u001B[43m)\u001B[49m\u001B[43m \u001B[49m\u001B[38;5;28;43;01mfor\u001B[39;49;00m\u001B[43m \u001B[49m\u001B[43mp\u001B[49m\u001B[43m \u001B[49m\u001B[38;5;129;43;01min\u001B[39;49;00m\u001B[43m \u001B[49m\u001B[43mdistribution\u001B[49m\u001B[43m]\u001B[49m\n\u001B[32m    161\u001B[39m         topic_distributions.append(distribution)\n\u001B[32m    162\u001B[39m \u001B[38;5;28;01mreturn\u001B[39;00m topic_distributions\n",
      "\u001B[36mFile \u001B[39m\u001B[32m~/Projects/mental-health/envs/analysis/lib/python3.11/site-packages/little_mallet_wrapper/little_mallet_wrapper.py:160\u001B[39m, in \u001B[36m<listcomp>\u001B[39m\u001B[34m(.0)\u001B[39m\n\u001B[32m    158\u001B[39m     \u001B[38;5;28;01mif\u001B[39;00m line.split()[\u001B[32m0\u001B[39m] != \u001B[33m'\u001B[39m\u001B[33m#doc\u001B[39m\u001B[33m'\u001B[39m:\n\u001B[32m    159\u001B[39m         instance_id, distribution = (line.split(\u001B[33m'\u001B[39m\u001B[38;5;130;01m\\t\u001B[39;00m\u001B[33m'\u001B[39m)[\u001B[32m1\u001B[39m], line.split(\u001B[33m'\u001B[39m\u001B[38;5;130;01m\\t\u001B[39;00m\u001B[33m'\u001B[39m)[\u001B[32m2\u001B[39m:])\n\u001B[32m--> \u001B[39m\u001B[32m160\u001B[39m         distribution = [\u001B[38;5;28;43mfloat\u001B[39;49m\u001B[43m(\u001B[49m\u001B[43mp\u001B[49m\u001B[43m)\u001B[49m \u001B[38;5;28;01mfor\u001B[39;00m p \u001B[38;5;129;01min\u001B[39;00m distribution]\n\u001B[32m    161\u001B[39m         topic_distributions.append(distribution)\n\u001B[32m    162\u001B[39m \u001B[38;5;28;01mreturn\u001B[39;00m topic_distributions\n",
      "\u001B[31mValueError\u001B[39m: could not convert string to float: 'life know way people suicide help time like day think depression feel thing learn loss family end thought deal heart \\n'"
     ]
    }
   ],
   "execution_count": 12
  },
  {
   "metadata": {},
   "cell_type": "code",
   "outputs": [],
   "execution_count": null,
   "source": "",
   "id": "c200d43e863d6f9"
  },
  {
   "metadata": {
    "ExecuteTime": {
     "end_time": "2025-05-20T03:08:48.652283Z",
     "start_time": "2025-05-20T03:08:48.563248Z"
    }
   },
   "cell_type": "code",
   "source": "topic_word_probability_dict = lmw.load_topic_word_distributions(topic_path + '/mallet.word_weights.' +str(num_topics))",
   "id": "476b210c9c9328f4",
   "outputs": [],
   "execution_count": 13
  },
  {
   "metadata": {
    "ExecuteTime": {
     "end_time": "2025-05-20T03:12:25.300437Z",
     "start_time": "2025-05-20T03:12:25.208147Z"
    }
   },
   "cell_type": "code",
   "source": [
    "topics_df = pd.DataFrame([', '.join([term for term in topic]) for topic in topic_word_probability_dict], columns = ['Terms per Topic'], index=['Topic'+str(t) for t in range(0, num_topics)] )\n",
    "topics_df"
   ],
   "id": "1bdb0fbfb454687a",
   "outputs": [
    {
     "ename": "TypeError",
     "evalue": "'int' object is not iterable",
     "output_type": "error",
     "traceback": [
      "\u001B[31m---------------------------------------------------------------------------\u001B[39m",
      "\u001B[31mTypeError\u001B[39m                                 Traceback (most recent call last)",
      "\u001B[36mCell\u001B[39m\u001B[36m \u001B[39m\u001B[32mIn[16]\u001B[39m\u001B[32m, line 1\u001B[39m\n\u001B[32m----> \u001B[39m\u001B[32m1\u001B[39m topics_df = pd.DataFrame(\u001B[43m[\u001B[49m\u001B[33;43m'\u001B[39;49m\u001B[33;43m, \u001B[39;49m\u001B[33;43m'\u001B[39;49m\u001B[43m.\u001B[49m\u001B[43mjoin\u001B[49m\u001B[43m(\u001B[49m\u001B[43m[\u001B[49m\u001B[43mterm\u001B[49m\u001B[43m \u001B[49m\u001B[38;5;28;43;01mfor\u001B[39;49;00m\u001B[43m \u001B[49m\u001B[43mterm\u001B[49m\u001B[43m \u001B[49m\u001B[38;5;129;43;01min\u001B[39;49;00m\u001B[43m \u001B[49m\u001B[43mtopic\u001B[49m\u001B[43m]\u001B[49m\u001B[43m)\u001B[49m\u001B[43m \u001B[49m\u001B[38;5;28;43;01mfor\u001B[39;49;00m\u001B[43m \u001B[49m\u001B[43mtopic\u001B[49m\u001B[43m \u001B[49m\u001B[38;5;129;43;01min\u001B[39;49;00m\u001B[43m \u001B[49m\u001B[43mtopic_word_probability_dict\u001B[49m\u001B[43m]\u001B[49m, columns = [\u001B[33m'\u001B[39m\u001B[33mTerms per Topic\u001B[39m\u001B[33m'\u001B[39m], index=[\u001B[33m'\u001B[39m\u001B[33mTopic\u001B[39m\u001B[33m'\u001B[39m+\u001B[38;5;28mstr\u001B[39m(t) \u001B[38;5;28;01mfor\u001B[39;00m t \u001B[38;5;129;01min\u001B[39;00m \u001B[38;5;28mrange\u001B[39m(\u001B[32m0\u001B[39m, num_topics)] )\n\u001B[32m      2\u001B[39m topics_df\n",
      "\u001B[36mCell\u001B[39m\u001B[36m \u001B[39m\u001B[32mIn[16]\u001B[39m\u001B[32m, line 1\u001B[39m, in \u001B[36m<listcomp>\u001B[39m\u001B[34m(.0)\u001B[39m\n\u001B[32m----> \u001B[39m\u001B[32m1\u001B[39m topics_df = pd.DataFrame([\u001B[33m'\u001B[39m\u001B[33m, \u001B[39m\u001B[33m'\u001B[39m.join(\u001B[43m[\u001B[49m\u001B[43mterm\u001B[49m\u001B[43m \u001B[49m\u001B[38;5;28;43;01mfor\u001B[39;49;00m\u001B[43m \u001B[49m\u001B[43mterm\u001B[49m\u001B[43m \u001B[49m\u001B[38;5;129;43;01min\u001B[39;49;00m\u001B[43m \u001B[49m\u001B[43mtopic\u001B[49m\u001B[43m]\u001B[49m) \u001B[38;5;28;01mfor\u001B[39;00m topic \u001B[38;5;129;01min\u001B[39;00m topic_word_probability_dict], columns = [\u001B[33m'\u001B[39m\u001B[33mTerms per Topic\u001B[39m\u001B[33m'\u001B[39m], index=[\u001B[33m'\u001B[39m\u001B[33mTopic\u001B[39m\u001B[33m'\u001B[39m+\u001B[38;5;28mstr\u001B[39m(t) \u001B[38;5;28;01mfor\u001B[39;00m t \u001B[38;5;129;01min\u001B[39;00m \u001B[38;5;28mrange\u001B[39m(\u001B[32m0\u001B[39m, num_topics)] )\n\u001B[32m      2\u001B[39m topics_df\n",
      "\u001B[31mTypeError\u001B[39m: 'int' object is not iterable"
     ]
    }
   ],
   "execution_count": 16
  },
  {
   "metadata": {},
   "cell_type": "code",
   "outputs": [],
   "execution_count": null,
   "source": "",
   "id": "671d7b477f251076"
  }
 ],
 "metadata": {
  "kernelspec": {
   "display_name": "Python 3",
   "language": "python",
   "name": "python3"
  },
  "language_info": {
   "codemirror_mode": {
    "name": "ipython",
    "version": 2
   },
   "file_extension": ".py",
   "mimetype": "text/x-python",
   "name": "python",
   "nbconvert_exporter": "python",
   "pygments_lexer": "ipython2",
   "version": "2.7.6"
  }
 },
 "nbformat": 4,
 "nbformat_minor": 5
}
